{
 "cells": [
  {
   "cell_type": "code",
   "execution_count": 26,
   "metadata": {},
   "outputs": [],
   "source": [
    "from bs4 import BeautifulSoup\n",
    "import requests"
   ]
  },
  {
   "cell_type": "code",
   "execution_count": 3,
   "metadata": {},
   "outputs": [],
   "source": [
    "url = \"https://www.snitch.co.in/collections/most-trending?sort=best-selling\""
   ]
  },
  {
   "cell_type": "code",
   "execution_count": 20,
   "metadata": {},
   "outputs": [],
   "source": [
    "response = requests.get(url, )\n",
    "\n",
    "soup = BeautifulSoup(response.text, 'html.parser')"
   ]
  },
  {
   "cell_type": "code",
   "execution_count": 22,
   "metadata": {},
   "outputs": [
    {
     "name": "stdout",
     "output_type": "stream",
     "text": [
      "Title of the website is: Most Trending\n",
      "– SNITCH\n",
      "\n"
     ]
    }
   ],
   "source": [
    "title = soup.title.string\n",
    "print(f'Title of the website is: {title}')"
   ]
  },
  {
   "cell_type": "code",
   "execution_count": 7,
   "metadata": {},
   "outputs": [
    {
     "name": "stdout",
     "output_type": "stream",
     "text": [
      "Total products found: 0\n"
     ]
    }
   ],
   "source": [
    "# Find all product details\n",
    "product_details = soup.find_all('div', class_='boost-sd__product-item')\n",
    "\n",
    "print(f'Total products found: {len(product_details)}')\n",
    "\n",
    "# Loop through each product and extract details\n",
    "for product in product_details:\n",
    "    product_name = product.find('h2', class_='product-name').text\n",
    "    product_price = product.find('span', class_='product-price').text\n",
    "    print(f'Product Name: {product_name}, Product Price: {product_price}')\n"
   ]
  },
  {
   "cell_type": "code",
   "execution_count": 23,
   "metadata": {},
   "outputs": [
    {
     "name": "stdout",
     "output_type": "stream",
     "text": [
      "Total divs found: 12\n"
     ]
    }
   ],
   "source": [
    "divs = soup.main.find_all('div')\n",
    "\n",
    "print(f'Total divs found: {len(divs)}')"
   ]
  },
  {
   "cell_type": "code",
   "execution_count": 24,
   "metadata": {},
   "outputs": [
    {
     "name": "stdout",
     "output_type": "stream",
     "text": [
      "<div class=\"boost-sd__product-filter-fallback\"><section class=\"shopify-section\" id=\"shopify-section-template--16566206693538__6b5ef923-9218-4c5e-a390-8fbc120a3f47\"><div class=\"index-section\"><div class=\"page-width\"><div class=\"shopify-block shopify-app-block\" id=\"shopify-block-4ec51be9-6a65-4b6f-95fd-60b1722c91a3\"><style>\n",
      "  .boost-sd__tae-loading {\n",
      "    height: 800px;\n",
      "    width: 100%;\n",
      "    display: flex;\n",
      "    align-items: center;\n",
      "    justify-content: center;\n",
      "  }\n",
      "\n",
      "  .boost-sd__tae-spinner {\n",
      "    display: block;\n",
      "    width: 28px;\n",
      "    height: 28px;\n",
      "    margin: 14px auto;\n",
      "    border-radius: 50%;\n",
      "    border-top: 3px solid #333333;\n",
      "    border-left: 2px solid rgb(51 51 51 / 45%);\n",
      "    border-right: 3px solid rgb(51 51 51 / 90%);\n",
      "    animation: rotation 0.7s linear infinite;\n",
      "  }\n",
      "\n",
      "  @keyframes rotation {\n",
      "    100% {\n",
      "      transform: rotate(360deg);\n",
      "    }\n",
      "  }\n",
      "</style>\n",
      "<div class=\"boost-sd__filter-block\">\n",
      "<div class=\"boost-sd__tae-loading\">\n",
      "<span class=\"boost-sd__tae-spinner\"></span>\n",
      "</div>\n",
      "</div>\n",
      "</div>\n",
      "</div></div>\n",
      "</section><section class=\"shopify-section\" id=\"shopify-section-template--16566206693538__1688644690fc1def29\"><div class=\"index-section\"><div class=\"page-width\"></div></div>\n",
      "</section><section class=\"shopify-section\" id=\"shopify-section-template--16566206693538__af4e3f3c-c99b-453a-b06c-4991974cdb3d\"><div class=\"index-section\"><div class=\"page-width\"></div></div>\n",
      "</section><section class=\"shopify-section\" id=\"shopify-section-template--16566206693538__40d6eaeb-f630-4fbe-a71f-95c12f4ec914\"><div class=\"index-section\"><div class=\"page-width\"></div></div>\n",
      "</section></div>\n",
      "----------------------\n",
      "<div class=\"index-section\"><div class=\"page-width\"><div class=\"shopify-block shopify-app-block\" id=\"shopify-block-4ec51be9-6a65-4b6f-95fd-60b1722c91a3\"><style>\n",
      "  .boost-sd__tae-loading {\n",
      "    height: 800px;\n",
      "    width: 100%;\n",
      "    display: flex;\n",
      "    align-items: center;\n",
      "    justify-content: center;\n",
      "  }\n",
      "\n",
      "  .boost-sd__tae-spinner {\n",
      "    display: block;\n",
      "    width: 28px;\n",
      "    height: 28px;\n",
      "    margin: 14px auto;\n",
      "    border-radius: 50%;\n",
      "    border-top: 3px solid #333333;\n",
      "    border-left: 2px solid rgb(51 51 51 / 45%);\n",
      "    border-right: 3px solid rgb(51 51 51 / 90%);\n",
      "    animation: rotation 0.7s linear infinite;\n",
      "  }\n",
      "\n",
      "  @keyframes rotation {\n",
      "    100% {\n",
      "      transform: rotate(360deg);\n",
      "    }\n",
      "  }\n",
      "</style>\n",
      "<div class=\"boost-sd__filter-block\">\n",
      "<div class=\"boost-sd__tae-loading\">\n",
      "<span class=\"boost-sd__tae-spinner\"></span>\n",
      "</div>\n",
      "</div>\n",
      "</div>\n",
      "</div></div>\n",
      "----------------------\n",
      "<div class=\"page-width\"><div class=\"shopify-block shopify-app-block\" id=\"shopify-block-4ec51be9-6a65-4b6f-95fd-60b1722c91a3\"><style>\n",
      "  .boost-sd__tae-loading {\n",
      "    height: 800px;\n",
      "    width: 100%;\n",
      "    display: flex;\n",
      "    align-items: center;\n",
      "    justify-content: center;\n",
      "  }\n",
      "\n",
      "  .boost-sd__tae-spinner {\n",
      "    display: block;\n",
      "    width: 28px;\n",
      "    height: 28px;\n",
      "    margin: 14px auto;\n",
      "    border-radius: 50%;\n",
      "    border-top: 3px solid #333333;\n",
      "    border-left: 2px solid rgb(51 51 51 / 45%);\n",
      "    border-right: 3px solid rgb(51 51 51 / 90%);\n",
      "    animation: rotation 0.7s linear infinite;\n",
      "  }\n",
      "\n",
      "  @keyframes rotation {\n",
      "    100% {\n",
      "      transform: rotate(360deg);\n",
      "    }\n",
      "  }\n",
      "</style>\n",
      "<div class=\"boost-sd__filter-block\">\n",
      "<div class=\"boost-sd__tae-loading\">\n",
      "<span class=\"boost-sd__tae-spinner\"></span>\n",
      "</div>\n",
      "</div>\n",
      "</div>\n",
      "</div>\n",
      "----------------------\n",
      "<div class=\"shopify-block shopify-app-block\" id=\"shopify-block-4ec51be9-6a65-4b6f-95fd-60b1722c91a3\"><style>\n",
      "  .boost-sd__tae-loading {\n",
      "    height: 800px;\n",
      "    width: 100%;\n",
      "    display: flex;\n",
      "    align-items: center;\n",
      "    justify-content: center;\n",
      "  }\n",
      "\n",
      "  .boost-sd__tae-spinner {\n",
      "    display: block;\n",
      "    width: 28px;\n",
      "    height: 28px;\n",
      "    margin: 14px auto;\n",
      "    border-radius: 50%;\n",
      "    border-top: 3px solid #333333;\n",
      "    border-left: 2px solid rgb(51 51 51 / 45%);\n",
      "    border-right: 3px solid rgb(51 51 51 / 90%);\n",
      "    animation: rotation 0.7s linear infinite;\n",
      "  }\n",
      "\n",
      "  @keyframes rotation {\n",
      "    100% {\n",
      "      transform: rotate(360deg);\n",
      "    }\n",
      "  }\n",
      "</style>\n",
      "<div class=\"boost-sd__filter-block\">\n",
      "<div class=\"boost-sd__tae-loading\">\n",
      "<span class=\"boost-sd__tae-spinner\"></span>\n",
      "</div>\n",
      "</div>\n",
      "</div>\n",
      "----------------------\n",
      "<div class=\"boost-sd__filter-block\">\n",
      "<div class=\"boost-sd__tae-loading\">\n",
      "<span class=\"boost-sd__tae-spinner\"></span>\n",
      "</div>\n",
      "</div>\n",
      "----------------------\n",
      "<div class=\"boost-sd__tae-loading\">\n",
      "<span class=\"boost-sd__tae-spinner\"></span>\n",
      "</div>\n",
      "----------------------\n",
      "<div class=\"index-section\"><div class=\"page-width\"></div></div>\n",
      "----------------------\n",
      "<div class=\"page-width\"></div>\n",
      "----------------------\n",
      "<div class=\"index-section\"><div class=\"page-width\"></div></div>\n",
      "----------------------\n",
      "<div class=\"page-width\"></div>\n",
      "----------------------\n",
      "<div class=\"index-section\"><div class=\"page-width\"></div></div>\n",
      "----------------------\n",
      "<div class=\"page-width\"></div>\n",
      "----------------------\n"
     ]
    }
   ],
   "source": [
    "for div in divs:\n",
    "    print(div)\n",
    "    print('----------------------')"
   ]
  }
 ],
 "metadata": {
  "kernelspec": {
   "display_name": "Python 3",
   "language": "python",
   "name": "python3"
  },
  "language_info": {
   "codemirror_mode": {
    "name": "ipython",
    "version": 3
   },
   "file_extension": ".py",
   "mimetype": "text/x-python",
   "name": "python",
   "nbconvert_exporter": "python",
   "pygments_lexer": "ipython3",
   "version": "3.11.5"
  }
 },
 "nbformat": 4,
 "nbformat_minor": 2
}
